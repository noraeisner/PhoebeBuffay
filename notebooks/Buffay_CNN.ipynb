{
 "cells": [
  {
   "cell_type": "code",
   "execution_count": 1,
   "metadata": {},
   "outputs": [],
   "source": [
    "import pandas as pd\n",
    "import numpy as np\n",
    "import matplotlib.pyplot as plt\n",
    "import torch\n",
    "import torch.nn as nn\n",
    "from torch.utils.data import Dataset, DataLoader\n",
    "import os\n"
   ]
  },
  {
   "cell_type": "code",
   "execution_count": 4,
   "metadata": {},
   "outputs": [],
   "source": [
    "mps_device = torch.device(\"mps\")\n"
   ]
  },
  {
   "cell_type": "code",
   "execution_count": 5,
   "metadata": {},
   "outputs": [
    {
     "data": {
      "text/plain": [
       "tensor([[ 0.0000e+00,  1.6438e+01,  1.7235e-01,  ...,  8.4722e-01,\n",
       "          3.7038e-01,  0.0000e+00],\n",
       "        [ 1.0000e+00,  1.5357e+01, -1.3720e-02,  ...,  4.4933e-01,\n",
       "          9.7484e-01,  0.0000e+00],\n",
       "        [ 2.0000e+00,  2.3816e+01,  3.3310e-02,  ...,  6.9567e-01,\n",
       "          5.5630e-02,  0.0000e+00],\n",
       "        ...,\n",
       "        [ 7.9970e+03,  2.5299e-01, -5.2870e-02,  ...,  1.0171e-01,\n",
       "          3.5698e-01,  6.4487e-01],\n",
       "        [ 7.9980e+03,  1.7949e+01,  4.4880e-02,  ...,  7.5792e-01,\n",
       "          3.3626e-01,  2.4872e-01],\n",
       "        [ 7.9990e+03,  3.6270e+00, -1.4630e-01,  ...,  7.9199e-01,\n",
       "          7.8141e-01,  1.2063e-01]], dtype=torch.float64)"
      ]
     },
     "execution_count": 5,
     "metadata": {},
     "output_type": "execute_result"
    }
   ],
   "source": [
    "torch.tensor(np.array(pd.read_csv('/Users/neisner/Documents/code/PhoebeBuffay/data/training/theta.txt', delimiter=',')))\n"
   ]
  },
  {
   "cell_type": "code",
   "execution_count": 6,
   "metadata": {},
   "outputs": [
    {
     "name": "stdout",
     "output_type": "stream",
     "text": [
      "tensor([1.], device='mps:0')\n"
     ]
    }
   ],
   "source": [
    "if torch.backends.mps.is_available():\n",
    "   mps_device = torch.device(\"mps\")\n",
    "   x = torch.ones(1, device=mps_device)\n",
    "   print (x)\n",
    "else:\n",
    "   print (\"MPS device not found.\")"
   ]
  },
  {
   "cell_type": "code",
   "execution_count": 7,
   "metadata": {},
   "outputs": [],
   "source": [
    "torch.mps.synchronize()"
   ]
  },
  {
   "cell_type": "code",
   "execution_count": 8,
   "metadata": {},
   "outputs": [],
   "source": [
    "# # get the data ready\n",
    "\n",
    "# batch_size = 64\n",
    "# val_cut = 997\n",
    "# df = pd.read_csv('/Users/neisner/Documents/code/PhoebeBuffay/data/training/theta.txt', delimiter=',')\n",
    "# mtx = np.array(df)\n",
    "# T = torch.tensor(mtx, dtype=torch.float64)\n",
    "# training_data = torch.utils.data.TensorDataset(T)\n",
    "\n",
    "# print(np.shape(training_data))\n",
    "\n",
    "# # training_data = torch.utils.data.TensorDataset(torch.tensor(np.zeros((100,19))), torch.tensor(np.zeros((100,500))))\n",
    "# training_generator = torch.utils.data.DataLoader(training_data, batch_size=batch_size, shuffle=True)\n",
    "\n",
    "# # validation_data = torch.utils.data.TensorDataset(torch.tensor(np.zeros((20,19))), torch.tensor(np.zeros((20,500))))\n",
    "# # validation_data = torch.utils.data.TensorDataset(torch.tensor(np.load('/Users/neisner/Documents/code/PhoebeBuffay/data/training/theta.txt'), dtype=torch.float32, allow_pickle=True), torch.tensor(np.load('/Users/neisner/Documents/code/PhoebeBuffay/data/training/simulations.npy'), dtype=torch.float32, allow_pickle=True))\n",
    "\n",
    "# validation_generator = torch.utils.data.DataLoader(training_data, batch_size=batch_size, shuffle=True)\n"
   ]
  },
  {
   "cell_type": "code",
   "execution_count": 18,
   "metadata": {},
   "outputs": [],
   "source": [
    "# get the data ready\n",
    "\n",
    "batch_size = 64\n",
    "val_cut = 997\n",
    "cut = 6000\n",
    "\n",
    "data = torch.tensor(np.array(pd.read_csv('/Users/neisner/Documents/code/PhoebeBuffay/data/training/theta.txt', delimiter=',', usecols = range(1,17))))\n",
    "label = torch.tensor(np.array(pd.read_csv('/Users/neisner/Documents/code/PhoebeBuffay/data/training/simulations.txt', delimiter=',', usecols = range(1,501))))\n",
    "\n",
    "training_data = torch.utils.data.TensorDataset(data[0:cut], label[0:cut])\n",
    "\n",
    "# training_data = torch.utils.data.TensorDataset(torch.tensor(np.zeros((100,19))), torch.tensor(np.zeros((100,500))))\n",
    "\n",
    "training_generator = torch.utils.data.DataLoader(training_data, batch_size=batch_size, shuffle=True)\n",
    "\n",
    "validation_data = torch.utils.data.TensorDataset(data[cut:-1], label[cut:-1])\n",
    "\n",
    "# validation_data = torch.utils.data.TensorDataset(torch.tensor(np.load('/Users/neisner/Documents/code/PhoebeBuffay/data/training/theta.txt'), dtype=torch.float32, allow_pickle=True), torch.tensor(np.load('/Users/neisner/Documents/code/PhoebeBuffay/data/training/simulations.npy'), dtype=torch.float32, allow_pickle=True))\n",
    "\n",
    "validation_generator = torch.utils.data.DataLoader(validation_data, batch_size=batch_size, shuffle=True)\n"
   ]
  },
  {
   "cell_type": "code",
   "execution_count": 10,
   "metadata": {},
   "outputs": [
    {
     "data": {
      "text/plain": [
       "500"
      ]
     },
     "execution_count": 10,
     "metadata": {},
     "output_type": "execute_result"
    }
   ],
   "source": [
    "len(label[0])"
   ]
  },
  {
   "cell_type": "code",
   "execution_count": 19,
   "metadata": {},
   "outputs": [
    {
     "name": "stdout",
     "output_type": "stream",
     "text": [
      "buffayCNN(\n",
      "  (linear1): Linear(in_features=16, out_features=500, bias=True)\n",
      "  (linear2): Linear(in_features=500, out_features=780, bias=True)\n",
      "  (linear3): Linear(in_features=780, out_features=4000, bias=True)\n",
      "  (conv1): Conv1d(1, 20, kernel_size=(3,), stride=(1,), padding=(1,))\n",
      "  (conv2): Conv1d(20, 100, kernel_size=(3,), stride=(1,), padding=(1,))\n",
      "  (maxpool2): MaxPool1d(kernel_size=2, stride=2, padding=0, dilation=1, ceil_mode=False)\n",
      "  (conv3): Conv1d(100, 150, kernel_size=(3,), stride=(1,), padding=(1,))\n",
      "  (conv4): Conv1d(150, 100, kernel_size=(3,), stride=(1,), padding=(1,))\n",
      "  (maxpool4): MaxPool1d(kernel_size=2, stride=2, padding=0, dilation=1, ceil_mode=False)\n",
      "  (conv5): Conv1d(100, 20, kernel_size=(3,), stride=(1,), padding=(1,))\n",
      "  (conv6): Conv1d(20, 1, kernel_size=(3,), stride=(1,), padding=(1,))\n",
      "  (maxpool6): MaxPool1d(kernel_size=2, stride=2, padding=0, dilation=1, ceil_mode=False)\n",
      "  (relu): ReLU()\n",
      ")\n"
     ]
    }
   ],
   "source": [
    "\n",
    "class buffayCNN(nn.Module):\n",
    "    def __init__(self):\n",
    "        super(buffayCNN, self).__init__()\n",
    "        self.linear1 = nn.Linear(16, 500)\n",
    "        self.linear2 = nn.Linear(500, 780)\n",
    "        self.linear3 = nn.Linear(780, 4000)\n",
    "        \n",
    "        self.conv1 = nn.Conv1d(1, 20, kernel_size=3, stride=1, padding=1)\n",
    "        #self.maxpool1 = nn.MaxPool1d(2)\n",
    "        self.conv2 = nn.Conv1d(20,100, kernel_size=3, stride=1, padding=1)\n",
    "        self.maxpool2 = nn.MaxPool1d(2)\n",
    "        self.conv3 = nn.Conv1d(100, 150, kernel_size=3, stride=1, padding=1)\n",
    "        #self.maxpool3 = nn.MaxPool1d(2)\n",
    "        self.conv4 = nn.Conv1d(150, 100, kernel_size=3, stride=1, padding=1)\n",
    "        self.maxpool4 = nn.MaxPool1d(2)\n",
    "        \n",
    "        self.conv5 = nn.Conv1d(100, 20, kernel_size=3, stride=1, padding=1)\n",
    "        #self.maxpool5 = nn.MaxPool1d(2)\n",
    "        self.conv6 = nn.Conv1d(20, 1, kernel_size=3, stride=1, padding=1)\n",
    "        self.maxpool6 = nn.MaxPool1d(2)\n",
    "\n",
    "        self.relu = nn.ReLU()\n",
    "        \n",
    "    def forward(self, x):\n",
    "        x = self.relu(self.linear1(x))\n",
    "        x = self.relu(self.linear2(x))\n",
    "        x = self.relu(self.linear3(x))\n",
    "\n",
    "        x = self.relu((self.conv1(x.reshape((x.shape[0], 1, x.shape[1])))))\n",
    "        # x = self.maxpool1(x)\n",
    "        \n",
    "        x = self.relu((self.conv2(x)))\n",
    "        x = self.maxpool2(x)\n",
    "        \n",
    "        x = self.relu((self.conv3(x)))\n",
    "        # x = self.maxpool3(x)\n",
    "        \n",
    "        x = self.relu((self.conv4(x)))\n",
    "        x = self.maxpool4(x)\n",
    "        \n",
    "        x = self.relu((self.conv5(x)))\n",
    "        # x = self.maxpool5(x)\n",
    "        \n",
    "        x = self.relu((self.conv6(x)))\n",
    "        x = self.maxpool6(x)\n",
    "        \n",
    "                \n",
    "        return x.squeeze()\n",
    "\n",
    "# Create an instance of the SimpleCNN model\n",
    "model = buffayCNN()\n",
    "model.to(mps_device)\n",
    "\n",
    "# model.cuda() # move to the GPU \n",
    "\n",
    "# Print the model architecture\n",
    "print(model)\n"
   ]
  },
  {
   "cell_type": "code",
   "execution_count": 22,
   "metadata": {},
   "outputs": [],
   "source": [
    "# model(torch.zeros((10,16))).shape"
   ]
  },
  {
   "cell_type": "code",
   "execution_count": 23,
   "metadata": {},
   "outputs": [],
   "source": [
    "# build a dierectroy to save the model\n",
    "\n",
    "training_index = 1\n",
    "\n",
    "os.makedirs(f'./model_{training_index}', exist_ok=True)\n",
    "checkpoint_path = f'./model_{training_index}/checkpoint.pth'\n",
    "# checkpoint_dir = os.path.dirname(checkpoint_path)\n"
   ]
  },
  {
   "cell_type": "code",
   "execution_count": 26,
   "metadata": {},
   "outputs": [
    {
     "ename": "TypeError",
     "evalue": "linear(): argument 'input' (position 1) must be Tensor, not tuple",
     "output_type": "error",
     "traceback": [
      "\u001b[0;31m---------------------------------------------------------------------------\u001b[0m",
      "\u001b[0;31mTypeError\u001b[0m                                 Traceback (most recent call last)",
      "\u001b[1;32m/Users/neisner/Documents/code/PhoebeBuffay/Buffay_CNN.ipynb Cell 12\u001b[0m line \u001b[0;36m<cell line: 10>\u001b[0;34m()\u001b[0m\n\u001b[1;32m     <a href='vscode-notebook-cell:/Users/neisner/Documents/code/PhoebeBuffay/Buffay_CNN.ipynb#W5sZmlsZQ%3D%3D?line=26'>27</a>\u001b[0m model\u001b[39m.\u001b[39mtrain()\n\u001b[1;32m     <a href='vscode-notebook-cell:/Users/neisner/Documents/code/PhoebeBuffay/Buffay_CNN.ipynb#W5sZmlsZQ%3D%3D?line=28'>29</a>\u001b[0m \u001b[39m# Forward pass\u001b[39;00m\n\u001b[0;32m---> <a href='vscode-notebook-cell:/Users/neisner/Documents/code/PhoebeBuffay/Buffay_CNN.ipynb#W5sZmlsZQ%3D%3D?line=29'>30</a>\u001b[0m y_hat \u001b[39m=\u001b[39m model(x)\n\u001b[1;32m     <a href='vscode-notebook-cell:/Users/neisner/Documents/code/PhoebeBuffay/Buffay_CNN.ipynb#W5sZmlsZQ%3D%3D?line=31'>32</a>\u001b[0m \u001b[39m# Compute the loss\u001b[39;00m\n\u001b[1;32m     <a href='vscode-notebook-cell:/Users/neisner/Documents/code/PhoebeBuffay/Buffay_CNN.ipynb#W5sZmlsZQ%3D%3D?line=32'>33</a>\u001b[0m loss \u001b[39m=\u001b[39m loss_fn(y_hat, y)\n",
      "File \u001b[0;32m~/opt/anaconda3/envs/exoplanet/lib/python3.9/site-packages/torch/nn/modules/module.py:1532\u001b[0m, in \u001b[0;36mModule._wrapped_call_impl\u001b[0;34m(self, *args, **kwargs)\u001b[0m\n\u001b[1;32m   1530\u001b[0m     \u001b[39mreturn\u001b[39;00m \u001b[39mself\u001b[39m\u001b[39m.\u001b[39m_compiled_call_impl(\u001b[39m*\u001b[39margs, \u001b[39m*\u001b[39m\u001b[39m*\u001b[39mkwargs)  \u001b[39m# type: ignore[misc]\u001b[39;00m\n\u001b[1;32m   1531\u001b[0m \u001b[39melse\u001b[39;00m:\n\u001b[0;32m-> 1532\u001b[0m     \u001b[39mreturn\u001b[39;00m \u001b[39mself\u001b[39;49m\u001b[39m.\u001b[39;49m_call_impl(\u001b[39m*\u001b[39;49margs, \u001b[39m*\u001b[39;49m\u001b[39m*\u001b[39;49mkwargs)\n",
      "File \u001b[0;32m~/opt/anaconda3/envs/exoplanet/lib/python3.9/site-packages/torch/nn/modules/module.py:1541\u001b[0m, in \u001b[0;36mModule._call_impl\u001b[0;34m(self, *args, **kwargs)\u001b[0m\n\u001b[1;32m   1536\u001b[0m \u001b[39m# If we don't have any hooks, we want to skip the rest of the logic in\u001b[39;00m\n\u001b[1;32m   1537\u001b[0m \u001b[39m# this function, and just call forward.\u001b[39;00m\n\u001b[1;32m   1538\u001b[0m \u001b[39mif\u001b[39;00m \u001b[39mnot\u001b[39;00m (\u001b[39mself\u001b[39m\u001b[39m.\u001b[39m_backward_hooks \u001b[39mor\u001b[39;00m \u001b[39mself\u001b[39m\u001b[39m.\u001b[39m_backward_pre_hooks \u001b[39mor\u001b[39;00m \u001b[39mself\u001b[39m\u001b[39m.\u001b[39m_forward_hooks \u001b[39mor\u001b[39;00m \u001b[39mself\u001b[39m\u001b[39m.\u001b[39m_forward_pre_hooks\n\u001b[1;32m   1539\u001b[0m         \u001b[39mor\u001b[39;00m _global_backward_pre_hooks \u001b[39mor\u001b[39;00m _global_backward_hooks\n\u001b[1;32m   1540\u001b[0m         \u001b[39mor\u001b[39;00m _global_forward_hooks \u001b[39mor\u001b[39;00m _global_forward_pre_hooks):\n\u001b[0;32m-> 1541\u001b[0m     \u001b[39mreturn\u001b[39;00m forward_call(\u001b[39m*\u001b[39;49margs, \u001b[39m*\u001b[39;49m\u001b[39m*\u001b[39;49mkwargs)\n\u001b[1;32m   1543\u001b[0m \u001b[39mtry\u001b[39;00m:\n\u001b[1;32m   1544\u001b[0m     result \u001b[39m=\u001b[39m \u001b[39mNone\u001b[39;00m\n",
      "\u001b[1;32m/Users/neisner/Documents/code/PhoebeBuffay/Buffay_CNN.ipynb Cell 12\u001b[0m line \u001b[0;36mbuffayCNN.forward\u001b[0;34m(self, x)\u001b[0m\n\u001b[1;32m     <a href='vscode-notebook-cell:/Users/neisner/Documents/code/PhoebeBuffay/Buffay_CNN.ipynb#W5sZmlsZQ%3D%3D?line=23'>24</a>\u001b[0m \u001b[39mdef\u001b[39;00m \u001b[39mforward\u001b[39m(\u001b[39mself\u001b[39m, x):\n\u001b[0;32m---> <a href='vscode-notebook-cell:/Users/neisner/Documents/code/PhoebeBuffay/Buffay_CNN.ipynb#W5sZmlsZQ%3D%3D?line=24'>25</a>\u001b[0m     x \u001b[39m=\u001b[39m \u001b[39mself\u001b[39m\u001b[39m.\u001b[39mrelu(\u001b[39mself\u001b[39;49m\u001b[39m.\u001b[39;49mlinear1(x))\n\u001b[1;32m     <a href='vscode-notebook-cell:/Users/neisner/Documents/code/PhoebeBuffay/Buffay_CNN.ipynb#W5sZmlsZQ%3D%3D?line=25'>26</a>\u001b[0m     x \u001b[39m=\u001b[39m \u001b[39mself\u001b[39m\u001b[39m.\u001b[39mrelu(\u001b[39mself\u001b[39m\u001b[39m.\u001b[39mlinear2(x))\n\u001b[1;32m     <a href='vscode-notebook-cell:/Users/neisner/Documents/code/PhoebeBuffay/Buffay_CNN.ipynb#W5sZmlsZQ%3D%3D?line=26'>27</a>\u001b[0m     x \u001b[39m=\u001b[39m \u001b[39mself\u001b[39m\u001b[39m.\u001b[39mrelu(\u001b[39mself\u001b[39m\u001b[39m.\u001b[39mlinear3(x))\n",
      "File \u001b[0;32m~/opt/anaconda3/envs/exoplanet/lib/python3.9/site-packages/torch/nn/modules/module.py:1532\u001b[0m, in \u001b[0;36mModule._wrapped_call_impl\u001b[0;34m(self, *args, **kwargs)\u001b[0m\n\u001b[1;32m   1530\u001b[0m     \u001b[39mreturn\u001b[39;00m \u001b[39mself\u001b[39m\u001b[39m.\u001b[39m_compiled_call_impl(\u001b[39m*\u001b[39margs, \u001b[39m*\u001b[39m\u001b[39m*\u001b[39mkwargs)  \u001b[39m# type: ignore[misc]\u001b[39;00m\n\u001b[1;32m   1531\u001b[0m \u001b[39melse\u001b[39;00m:\n\u001b[0;32m-> 1532\u001b[0m     \u001b[39mreturn\u001b[39;00m \u001b[39mself\u001b[39;49m\u001b[39m.\u001b[39;49m_call_impl(\u001b[39m*\u001b[39;49margs, \u001b[39m*\u001b[39;49m\u001b[39m*\u001b[39;49mkwargs)\n",
      "File \u001b[0;32m~/opt/anaconda3/envs/exoplanet/lib/python3.9/site-packages/torch/nn/modules/module.py:1541\u001b[0m, in \u001b[0;36mModule._call_impl\u001b[0;34m(self, *args, **kwargs)\u001b[0m\n\u001b[1;32m   1536\u001b[0m \u001b[39m# If we don't have any hooks, we want to skip the rest of the logic in\u001b[39;00m\n\u001b[1;32m   1537\u001b[0m \u001b[39m# this function, and just call forward.\u001b[39;00m\n\u001b[1;32m   1538\u001b[0m \u001b[39mif\u001b[39;00m \u001b[39mnot\u001b[39;00m (\u001b[39mself\u001b[39m\u001b[39m.\u001b[39m_backward_hooks \u001b[39mor\u001b[39;00m \u001b[39mself\u001b[39m\u001b[39m.\u001b[39m_backward_pre_hooks \u001b[39mor\u001b[39;00m \u001b[39mself\u001b[39m\u001b[39m.\u001b[39m_forward_hooks \u001b[39mor\u001b[39;00m \u001b[39mself\u001b[39m\u001b[39m.\u001b[39m_forward_pre_hooks\n\u001b[1;32m   1539\u001b[0m         \u001b[39mor\u001b[39;00m _global_backward_pre_hooks \u001b[39mor\u001b[39;00m _global_backward_hooks\n\u001b[1;32m   1540\u001b[0m         \u001b[39mor\u001b[39;00m _global_forward_hooks \u001b[39mor\u001b[39;00m _global_forward_pre_hooks):\n\u001b[0;32m-> 1541\u001b[0m     \u001b[39mreturn\u001b[39;00m forward_call(\u001b[39m*\u001b[39;49margs, \u001b[39m*\u001b[39;49m\u001b[39m*\u001b[39;49mkwargs)\n\u001b[1;32m   1543\u001b[0m \u001b[39mtry\u001b[39;00m:\n\u001b[1;32m   1544\u001b[0m     result \u001b[39m=\u001b[39m \u001b[39mNone\u001b[39;00m\n",
      "File \u001b[0;32m~/opt/anaconda3/envs/exoplanet/lib/python3.9/site-packages/torch/nn/modules/linear.py:116\u001b[0m, in \u001b[0;36mLinear.forward\u001b[0;34m(self, input)\u001b[0m\n\u001b[1;32m    115\u001b[0m \u001b[39mdef\u001b[39;00m \u001b[39mforward\u001b[39m(\u001b[39mself\u001b[39m, \u001b[39minput\u001b[39m: Tensor) \u001b[39m-\u001b[39m\u001b[39m>\u001b[39m Tensor:\n\u001b[0;32m--> 116\u001b[0m     \u001b[39mreturn\u001b[39;00m F\u001b[39m.\u001b[39;49mlinear(\u001b[39minput\u001b[39;49m, \u001b[39mself\u001b[39;49m\u001b[39m.\u001b[39;49mweight, \u001b[39mself\u001b[39;49m\u001b[39m.\u001b[39;49mbias)\n",
      "\u001b[0;31mTypeError\u001b[0m: linear(): argument 'input' (position 1) must be Tensor, not tuple"
     ]
    }
   ],
   "source": [
    "loss_fn = nn.MSELoss()\n",
    "optimizer = torch.optim.Adam(model.parameters(), lr=0.001)\n",
    "epochs = 1\n",
    "\n",
    "val_losses = []\n",
    "train_losses = []\n",
    "\n",
    "best_val_loss = np.inf\n",
    "\n",
    "for epoch in range(epochs):\n",
    "    \n",
    "    temp_train_losses = []\n",
    "    \n",
    "    for i, (x, y) in enumerate(training_generator):\n",
    "        \n",
    "        \n",
    "        x = x.to(torch.float32)\n",
    "        y = y.to(torch.float32)\n",
    "\n",
    "        x, y = x = x.to(mps_device), y.to(mps_device)\n",
    "        \n",
    "        # x,y = x.cuda(), y.cuda() # move it to the GPU\n",
    "        \n",
    "        # Clear the gradients\n",
    "        optimizer.zero_grad()\n",
    "        \n",
    "        model.train()\n",
    "        \n",
    "        # Forward pass\n",
    "        y_hat = model(x)\n",
    "        \n",
    "        # Compute the loss\n",
    "        loss = loss_fn(y_hat, y)\n",
    "        temp_train_losses.append(loss.item())\n",
    "        \n",
    "        # Backward pass\n",
    "        loss.backward()\n",
    "        \n",
    "        # Update the parameters\n",
    "        optimizer.step()\n",
    "    \n",
    "    train_losses.append(np.mean(np.array(temp_train_losses)))\n",
    "    \n",
    "    temp_val_losses = []\n",
    "    \n",
    "    for i, (x, y) in enumerate(validation_generator):\n",
    "        x = x.to(torch.float32)\n",
    "        y = y.to(torch.float32)\n",
    "        \n",
    "        x, y = x = x.to(mps_device), y.to(mps_device)\n",
    "        \n",
    "        # x,y = x.cuda(), y.cuda()\n",
    "        \n",
    "        model.eval() \n",
    "        \n",
    "        # Forward pass\n",
    "        y_hat_val = model(x)\n",
    "        \n",
    "        # Compute the loss\n",
    "        val_loss = loss_fn(y_hat_val, y)\n",
    "        \n",
    "        temp_val_losses.append(val_loss.item())\n",
    "            \n",
    "    val_losses.append(np.mean(np.array(temp_val_losses)))\n",
    "    \n",
    "    if np.mean(np.array(temp_val_losses)) < best_val_loss:\n",
    "        best_val_loss = np.mean(np.array(temp_val_losses))\n",
    "        torch.save(model.state_dict(), checkpoint_path)\n",
    "    \n",
    "    # Print the loss every 100 iterations\n",
    "    if i % 100 == 0:\n",
    "        print(f'Epoch {_}, Iteration {i}, loss: {loss.item()}')\n",
    "\n",
    "model.train()"
   ]
  },
  {
   "cell_type": "code",
   "execution_count": 19,
   "metadata": {},
   "outputs": [
    {
     "data": {
      "text/plain": [
       "<matplotlib.legend.Legend at 0x17f828ac0>"
      ]
     },
     "execution_count": 19,
     "metadata": {},
     "output_type": "execute_result"
    },
    {
     "data": {
      "image/png": "[encoded data removed]",
      "text/plain": [
       "<Figure size 432x288 with 1 Axes>"
      ]
     },
     "metadata": {
      "needs_background": "light"
     },
     "output_type": "display_data"
    }
   ],
   "source": [
    "plt.figure()\n",
    "plt.plot(np.linspace(0,3,len(train_losses)),train_losses,\"x\", label='Training loss')\n",
    "plt.plot(np.linspace(0,3,len(train_losses)), val_losses, \"x\",label='Validation loss')\n",
    "plt.legend()"
   ]
  },
  {
   "cell_type": "code",
   "execution_count": null,
   "metadata": {},
   "outputs": [],
   "source": []
  }
 ],
 "metadata": {
  "kernelspec": {
   "display_name": "exoplanet",
   "language": "python",
   "name": "exoplanet"
  },
  "language_info": {
   "codemirror_mode": {
    "name": "ipython",
    "version": 3
   },
   "file_extension": ".py",
   "mimetype": "text/x-python",
   "name": "python",
   "nbconvert_exporter": "python",
   "pygments_lexer": "ipython3",
   "version": "3.9.18"
  }
 },
 "nbformat": 4,
 "nbformat_minor": 2
}
