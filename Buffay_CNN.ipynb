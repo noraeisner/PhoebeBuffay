{
 "cells": [
  {
   "cell_type": "code",
   "execution_count": 109,
   "metadata": {},
   "outputs": [],
   "source": [
    "import pandas as pd\n",
    "import numpy as np\n",
    "import matplotlib.pyplot as plt\n",
    "import torch\n",
    "import torch.nn as nn\n",
    "from torch.utils.data import Dataset, DataLoader\n",
    "import os"
   ]
  },
  {
   "cell_type": "code",
   "execution_count": 110,
   "metadata": {},
   "outputs": [],
   "source": [
    "# get the data ready\n",
    "\n",
    "batch_size = 64\n",
    "val_cut = 997\n",
    "\n",
    "\n",
    "# training_data = torch.utils.data.TensorDataset(torch.tensor(np.load('training_data.npy'), dtype=torch.float32), torch.tensor(np.load('training_labels.npy'), dtype=torch.float32))\n",
    "training_data = torch.utils.data.TensorDataset(torch.tensor(np.zeros((100,19))), torch.tensor(np.zeros((100,500))))\n",
    "training_generator = torch.utils.data.DataLoader(training_data, batch_size=batch_size, shuffle=True)\n",
    "\n",
    "validation_data = torch.utils.data.TensorDataset(torch.tensor(np.zeros((20,19))), torch.tensor(np.zeros((20,500))))\n",
    "# validation_data = torch.utils.data.TensorDataset(torch.tensor(np.load('training_data.npy'), dtype=torch.float32), torch.tensor(np.load('training_labels.npy'), dtype=torch.float32))\n",
    "validation_generator = torch.utils.data.DataLoader(training_data, batch_size=batch_size, shuffle=True)\n"
   ]
  },
  {
   "cell_type": "code",
   "execution_count": 113,
   "metadata": {},
   "outputs": [
    {
     "name": "stdout",
     "output_type": "stream",
     "text": [
      "buffayCNN(\n",
      "  (linear1): Linear(in_features=19, out_features=90, bias=True)\n",
      "  (linear2): Linear(in_features=90, out_features=180, bias=True)\n",
      "  (linear3): Linear(in_features=180, out_features=64000, bias=True)\n",
      "  (conv1): Conv1d(1, 20, kernel_size=(3,), stride=(1,), padding=(1,))\n",
      "  (maxpool1): MaxPool1d(kernel_size=2, stride=2, padding=0, dilation=1, ceil_mode=False)\n",
      "  (conv2): Conv1d(20, 100, kernel_size=(3,), stride=(1,), padding=(1,))\n",
      "  (maxpool2): MaxPool1d(kernel_size=2, stride=2, padding=0, dilation=1, ceil_mode=False)\n",
      "  (conv3): Conv1d(100, 150, kernel_size=(3,), stride=(1,), padding=(1,))\n",
      "  (maxpool3): MaxPool1d(kernel_size=2, stride=2, padding=0, dilation=1, ceil_mode=False)\n",
      "  (conv4): Conv1d(150, 250, kernel_size=(3,), stride=(1,), padding=(1,))\n",
      "  (maxpool4): MaxPool1d(kernel_size=2, stride=2, padding=0, dilation=1, ceil_mode=False)\n",
      "  (conv5): Conv1d(250, 150, kernel_size=(3,), stride=(1,), padding=(1,))\n",
      "  (maxpool5): MaxPool1d(kernel_size=2, stride=2, padding=0, dilation=1, ceil_mode=False)\n",
      "  (conv6): Conv1d(150, 100, kernel_size=(3,), stride=(1,), padding=(1,))\n",
      "  (maxpool6): MaxPool1d(kernel_size=2, stride=2, padding=0, dilation=1, ceil_mode=False)\n",
      "  (conv7): Conv1d(100, 20, kernel_size=(3,), stride=(1,), padding=(1,))\n",
      "  (maxpool7): MaxPool1d(kernel_size=2, stride=2, padding=0, dilation=1, ceil_mode=False)\n",
      "  (conv8): Conv1d(20, 1, kernel_size=(3,), stride=(1,), padding=(1,))\n",
      "  (relu): ReLU()\n",
      ")\n"
     ]
    }
   ],
   "source": [
    "\n",
    "class buffayCNN(nn.Module):\n",
    "    def __init__(self):\n",
    "        super(buffayCNN, self).__init__()\n",
    "        self.linear1 = nn.Linear(19, 90)\n",
    "        self.linear2 = nn.Linear(90, 180)\n",
    "        self.linear3 = nn.Linear(180, 12800*5)\n",
    "        \n",
    "        self.conv1 = nn.Conv1d(1, 20, kernel_size=3, stride=1, padding=1)\n",
    "        self.maxpool1 = nn.MaxPool1d(2)\n",
    "        self.conv2 = nn.Conv1d(20,100, kernel_size=3, stride=1, padding=1)\n",
    "        self.maxpool2 = nn.MaxPool1d(2)\n",
    "        self.conv3 = nn.Conv1d(100, 150, kernel_size=3, stride=1, padding=1)\n",
    "        self.maxpool3 = nn.MaxPool1d(2)\n",
    "        self.conv4 = nn.Conv1d(150, 250, kernel_size=3, stride=1, padding=1)\n",
    "        self.maxpool4 = nn.MaxPool1d(2)\n",
    "        \n",
    "        self.conv5 = nn.Conv1d(250, 150, kernel_size=3, stride=1, padding=1)\n",
    "        self.maxpool5 = nn.MaxPool1d(2)\n",
    "        self.conv6 = nn.Conv1d(150, 100, kernel_size=3, stride=1, padding=1)\n",
    "        self.maxpool6 = nn.MaxPool1d(2)\n",
    "        self.conv7 = nn.Conv1d(100, 20, kernel_size=3, stride=1, padding=1)\n",
    "        self.maxpool7 = nn.MaxPool1d(2)\n",
    "        self.conv8 = nn.Conv1d(20, 1, kernel_size=3, stride=1, padding=1)\n",
    "        \n",
    "        self.relu = nn.ReLU()\n",
    "        \n",
    "    def forward(self, x):\n",
    "        x = self.relu(self.linear1(x))\n",
    "        x = self.relu(self.linear2(x))\n",
    "        x = self.relu(self.linear3(x))\n",
    "\n",
    "        x = self.relu((self.conv1(x.reshape((x.shape[0], 1, x.shape[1])))))\n",
    "        x = self.maxpool1(x)\n",
    "        \n",
    "        x = self.relu((self.conv2(x)))\n",
    "        x = self.maxpool2(x)\n",
    "        \n",
    "        x = self.relu((self.conv3(x)))\n",
    "        x = self.maxpool3(x)\n",
    "        \n",
    "        x = self.relu((self.conv4(x)))\n",
    "        x = self.maxpool4(x)\n",
    "        \n",
    "        x = self.relu((self.conv5(x)))\n",
    "        x = self.maxpool5(x)\n",
    "        \n",
    "        x = self.relu((self.conv6(x)))\n",
    "        x = self.maxpool6(x)\n",
    "        \n",
    "        x = self.relu((self.conv7(x)))\n",
    "        x = self.maxpool7(x)\n",
    "        \n",
    "        x = self.relu((self.conv8(x)))\n",
    "                \n",
    "        return x.squeeze()\n",
    "\n",
    "# Create an instance of the SimpleCNN model\n",
    "model = buffayCNN()\n",
    "\n",
    "# Print the model architecture\n",
    "print(model)\n"
   ]
  },
  {
   "cell_type": "code",
   "execution_count": 114,
   "metadata": {},
   "outputs": [
    {
     "data": {
      "text/plain": [
       "torch.Size([10, 500])"
      ]
     },
     "execution_count": 114,
     "metadata": {},
     "output_type": "execute_result"
    }
   ],
   "source": [
    "model(torch.zeros((10,19))).shape"
   ]
  },
  {
   "cell_type": "code",
   "execution_count": 115,
   "metadata": {},
   "outputs": [],
   "source": [
    "# build a dierectroy to save the model\n",
    "\n",
    "training_index = 1\n",
    "\n",
    "os.makedirs(f'./model_{training_index}', exist_ok=True)\n",
    "checkpoint_path = f'./model_{training_index}/checkpoint.pth'\n",
    "# checkpoint_dir = os.path.dirname(checkpoint_path)\n"
   ]
  },
  {
   "cell_type": "code",
   "execution_count": 116,
   "metadata": {},
   "outputs": [
    {
     "data": {
      "text/plain": [
       "buffayCNN(\n",
       "  (linear1): Linear(in_features=19, out_features=90, bias=True)\n",
       "  (linear2): Linear(in_features=90, out_features=180, bias=True)\n",
       "  (linear3): Linear(in_features=180, out_features=64000, bias=True)\n",
       "  (conv1): Conv1d(1, 20, kernel_size=(3,), stride=(1,), padding=(1,))\n",
       "  (maxpool1): MaxPool1d(kernel_size=2, stride=2, padding=0, dilation=1, ceil_mode=False)\n",
       "  (conv2): Conv1d(20, 100, kernel_size=(3,), stride=(1,), padding=(1,))\n",
       "  (maxpool2): MaxPool1d(kernel_size=2, stride=2, padding=0, dilation=1, ceil_mode=False)\n",
       "  (conv3): Conv1d(100, 150, kernel_size=(3,), stride=(1,), padding=(1,))\n",
       "  (maxpool3): MaxPool1d(kernel_size=2, stride=2, padding=0, dilation=1, ceil_mode=False)\n",
       "  (conv4): Conv1d(150, 250, kernel_size=(3,), stride=(1,), padding=(1,))\n",
       "  (maxpool4): MaxPool1d(kernel_size=2, stride=2, padding=0, dilation=1, ceil_mode=False)\n",
       "  (conv5): Conv1d(250, 150, kernel_size=(3,), stride=(1,), padding=(1,))\n",
       "  (maxpool5): MaxPool1d(kernel_size=2, stride=2, padding=0, dilation=1, ceil_mode=False)\n",
       "  (conv6): Conv1d(150, 100, kernel_size=(3,), stride=(1,), padding=(1,))\n",
       "  (maxpool6): MaxPool1d(kernel_size=2, stride=2, padding=0, dilation=1, ceil_mode=False)\n",
       "  (conv7): Conv1d(100, 20, kernel_size=(3,), stride=(1,), padding=(1,))\n",
       "  (maxpool7): MaxPool1d(kernel_size=2, stride=2, padding=0, dilation=1, ceil_mode=False)\n",
       "  (conv8): Conv1d(20, 1, kernel_size=(3,), stride=(1,), padding=(1,))\n",
       "  (relu): ReLU()\n",
       ")"
      ]
     },
     "execution_count": 116,
     "metadata": {},
     "output_type": "execute_result"
    }
   ],
   "source": [
    "loss_fn = nn.MSELoss()\n",
    "optimizer = torch.optim.Adam(model.parameters(), lr=0.001)\n",
    "epochs = 3\n",
    "\n",
    "val_losses = []\n",
    "train_losses = []\n",
    "\n",
    "best_val_loss = np.inf\n",
    "\n",
    "for epoch in range(epochs):\n",
    "    \n",
    "    temp_train_losses = []\n",
    "    \n",
    "    for i, (x, y) in enumerate(training_generator):\n",
    "        x = x.to(torch.float32)\n",
    "        y = y.to(torch.float32)\n",
    "        \n",
    "        # Clear the gradients\n",
    "        optimizer.zero_grad()\n",
    "        \n",
    "        model.train()\n",
    "        \n",
    "        # Forward pass\n",
    "        y_hat = model(x)\n",
    "        \n",
    "        # Compute the loss\n",
    "        loss = loss_fn(y_hat, y)\n",
    "        temp_train_losses.append(loss.item())\n",
    "        \n",
    "        # Backward pass\n",
    "        loss.backward()\n",
    "        \n",
    "        # Update the parameters\n",
    "        optimizer.step()\n",
    "    \n",
    "    train_losses.append(np.mean(np.array(temp_train_losses)))\n",
    "    \n",
    "    temp_val_losses = []\n",
    "    \n",
    "    for i, (x, y) in enumerate(validation_generator):\n",
    "        x = x.to(torch.float32)\n",
    "        y = y.to(torch.float32)\n",
    "        \n",
    "        model.eval() \n",
    "        \n",
    "        # Forward pass\n",
    "        y_hat_val = model(x)\n",
    "        \n",
    "        # Compute the loss\n",
    "        val_loss = loss_fn(y_hat_val, y)\n",
    "        \n",
    "        temp_val_losses.append(val_loss.item())\n",
    "            \n",
    "    val_losses.append(np.mean(np.array(temp_val_losses)))\n",
    "    \n",
    "    if np.mean(np.array(temp_val_losses)) < best_val_loss:\n",
    "        best_val_loss = np.mean(np.array(temp_val_losses))\n",
    "        torch.save(model.state_dict(), checkpoint_path)\n",
    "    \n",
    "    # Print the loss every 100 iterations\n",
    "    if i % 100 == 0:\n",
    "        print(f'Epoch {_}, Iteration {i}, loss: {loss.item()}')\n",
    "\n",
    "\n",
    "\n",
    "model.train()"
   ]
  },
  {
   "cell_type": "code",
   "execution_count": 127,
   "metadata": {},
   "outputs": [
    {
     "data": {
      "text/plain": [
       "<matplotlib.legend.Legend at 0x42c6dddf0>"
      ]
     },
     "execution_count": 127,
     "metadata": {},
     "output_type": "execute_result"
    },
    {
     "data": {
      "image/png": "[encoded data removed]",
      "text/plain": [
       "<Figure size 432x288 with 1 Axes>"
      ]
     },
     "metadata": {
      "needs_background": "light"
     },
     "output_type": "display_data"
    }
   ],
   "source": [
    "plt.figure()\n",
    "plt.plot(np.linspace(0,3,len(train_losses)),train_losses,\"x\", label='Training loss')\n",
    "plt.plot(np.linspace(0,3,len(train_losses)), val_losses, \"x\",label='Validation loss')\n",
    "plt.legend()"
   ]
  },
  {
   "cell_type": "code",
   "execution_count": 126,
   "metadata": {},
   "outputs": [
    {
     "data": {
      "text/plain": [
       "[0.0, 0.0, 0.0]"
      ]
     },
     "execution_count": 126,
     "metadata": {},
     "output_type": "execute_result"
    }
   ],
   "source": [
    "train_losses"
   ]
  },
  {
   "cell_type": "code",
   "execution_count": null,
   "metadata": {},
   "outputs": [],
   "source": []
  }
 ],
 "metadata": {
  "kernelspec": {
   "display_name": "exoplanet",
   "language": "python",
   "name": "exoplanet"
  },
  "language_info": {
   "codemirror_mode": {
    "name": "ipython",
    "version": 3
   },
   "file_extension": ".py",
   "mimetype": "text/x-python",
   "name": "python",
   "nbconvert_exporter": "python",
   "pygments_lexer": "ipython3",
   "version": "3.9.18"
  }
 },
 "nbformat": 4,
 "nbformat_minor": 2
}
