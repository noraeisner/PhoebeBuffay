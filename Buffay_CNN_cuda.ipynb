{
 "cells": [
  {
   "cell_type": "code",
   "execution_count": 1,
   "metadata": {},
   "outputs": [],
   "source": [
    "import pandas as pd\n",
    "import numpy as np\n",
    "import matplotlib.pyplot as plt\n",
    "import torch\n",
    "import torch.nn as nn\n",
    "from torch.utils.data import Dataset, DataLoader\n",
    "import os\n"
   ]
  },
  {
   "cell_type": "code",
   "execution_count": 2,
   "metadata": {},
   "outputs": [],
   "source": [
    "device = torch.device(\"cuda\")\n"
   ]
  },
  {
   "cell_type": "code",
   "execution_count": 3,
   "metadata": {},
   "outputs": [
    {
     "data": {
      "text/plain": [
       "tensor([[ 0.0000e+00,  1.6438e+01,  1.7235e-01,  ...,  8.4722e-01,\n",
       "          3.7038e-01,  0.0000e+00],\n",
       "        [ 1.0000e+00,  1.5357e+01, -1.3720e-02,  ...,  4.4933e-01,\n",
       "          9.7484e-01,  0.0000e+00],\n",
       "        [ 2.0000e+00,  2.3816e+01,  3.3310e-02,  ...,  6.9567e-01,\n",
       "          5.5630e-02,  0.0000e+00],\n",
       "        ...,\n",
       "        [ 7.9970e+03,  2.5299e-01, -5.2870e-02,  ...,  1.0171e-01,\n",
       "          3.5698e-01,  6.4487e-01],\n",
       "        [ 7.9980e+03,  1.7949e+01,  4.4880e-02,  ...,  7.5792e-01,\n",
       "          3.3626e-01,  2.4872e-01],\n",
       "        [ 7.9990e+03,  3.6270e+00, -1.4630e-01,  ...,  7.9199e-01,\n",
       "          7.8141e-01,  1.2063e-01]], dtype=torch.float64)"
      ]
     },
     "execution_count": 3,
     "metadata": {},
     "output_type": "execute_result"
    }
   ],
   "source": [
    "torch.tensor(np.array(pd.read_csv('/Users/vtard/Documents/PhoebeBuffay/data/training/theta.txt', delimiter=',')))\n"
   ]
  },
  {
   "cell_type": "code",
   "execution_count": 8,
   "metadata": {},
   "outputs": [],
   "source": [
    "# # get the data ready\n",
    "\n",
    "# batch_size = 64\n",
    "# val_cut = 997\n",
    "# df = pd.read_csv('/Users/neisner/Documents/code/PhoebeBuffay/data/training/theta.txt', delimiter=',')\n",
    "# mtx = np.array(df)\n",
    "# T = torch.tensor(mtx, dtype=torch.float64)\n",
    "# training_data = torch.utils.data.TensorDataset(T)\n",
    "\n",
    "# print(np.shape(training_data))\n",
    "\n",
    "# # training_data = torch.utils.data.TensorDataset(torch.tensor(np.zeros((100,19))), torch.tensor(np.zeros((100,500))))\n",
    "# training_generator = torch.utils.data.DataLoader(training_data, batch_size=batch_size, shuffle=True)\n",
    "\n",
    "# # validation_data = torch.utils.data.TensorDataset(torch.tensor(np.zeros((20,19))), torch.tensor(np.zeros((20,500))))\n",
    "# # validation_data = torch.utils.data.TensorDataset(torch.tensor(np.load('/Users/neisner/Documents/code/PhoebeBuffay/data/training/theta.txt'), dtype=torch.float32, allow_pickle=True), torch.tensor(np.load('/Users/neisner/Documents/code/PhoebeBuffay/data/training/simulations.npy'), dtype=torch.float32, allow_pickle=True))\n",
    "\n",
    "# validation_generator = torch.utils.data.DataLoader(training_data, batch_size=batch_size, shuffle=True)\n"
   ]
  },
  {
   "cell_type": "code",
   "execution_count": 8,
   "metadata": {},
   "outputs": [],
   "source": [
    "# get the data ready\n",
    "\n",
    "batch_size = 256\n",
    "cut = 6000\n",
    "\n",
    "data = torch.tensor(np.array(pd.read_csv('/Users/vtard/Documents/PhoebeBuffay/data/training/theta.txt', delimiter=',', usecols = range(1,17))))-1\n",
    "label = torch.tensor(np.array(pd.read_csv('/Users/vtard/Documents/PhoebeBuffay/data/training/simulations.txt', delimiter=',', usecols = range(1,501))))-1\n",
    "\n",
    "mask_zeros = torch.where(label[:,3]!=0)\n",
    "data = data[mask_zeros]\n",
    "label = label[mask_zeros]\n",
    "\n",
    "shuffle_inds = np.arange(len(data))\n",
    "np.random.shuffle(shuffle_inds)\n",
    "\n",
    "data = data[shuffle_inds]\n",
    "label = label[shuffle_inds]\n",
    "\n",
    "training_data = torch.utils.data.TensorDataset(data[0:cut], label[0:cut])\n",
    "\n",
    "# training_data = torch.utils.data.TensorDataset(torch.tensor(np.zeros((100,19))), torch.tensor(np.zeros((100,500))))\n",
    "\n",
    "training_generator = torch.utils.data.DataLoader(training_data, batch_size=batch_size, shuffle=True)\n",
    "\n",
    "validation_data = torch.utils.data.TensorDataset(data[cut:], label[cut:])\n",
    "\n",
    "# validation_data = torch.utils.data.TensorDataset(torch.tensor(np.load('/Users/neisner/Documents/code/PhoebeBuffay/data/training/theta.txt'), dtype=torch.float32, allow_pickle=True), torch.tensor(np.load('/Users/neisner/Documents/code/PhoebeBuffay/data/training/simulations.npy'), dtype=torch.float32, allow_pickle=True))\n",
    "\n",
    "validation_generator = torch.utils.data.DataLoader(validation_data, batch_size=batch_size, shuffle=True)\n"
   ]
  },
  {
   "cell_type": "code",
   "execution_count": 57,
   "metadata": {},
   "outputs": [
    {
     "data": {
      "text/plain": [
       "7003"
      ]
     },
     "execution_count": 57,
     "metadata": {},
     "output_type": "execute_result"
    }
   ],
   "source": []
  },
  {
   "cell_type": "code",
   "execution_count": 9,
   "metadata": {},
   "outputs": [
    {
     "name": "stdout",
     "output_type": "stream",
     "text": [
      "buffayCNN(\n",
      "  (linear1): Linear(in_features=16, out_features=500, bias=True)\n",
      "  (linear2): Linear(in_features=500, out_features=780, bias=True)\n",
      "  (linear3): Linear(in_features=780, out_features=4000, bias=True)\n",
      "  (conv1): Conv1d(1, 20, kernel_size=(3,), stride=(1,), padding=(1,))\n",
      "  (conv2): Conv1d(20, 100, kernel_size=(3,), stride=(1,), padding=(1,))\n",
      "  (maxpool2): MaxPool1d(kernel_size=2, stride=2, padding=0, dilation=1, ceil_mode=False)\n",
      "  (conv3): Conv1d(100, 150, kernel_size=(3,), stride=(1,), padding=(1,))\n",
      "  (conv4): Conv1d(150, 100, kernel_size=(3,), stride=(1,), padding=(1,))\n",
      "  (maxpool4): MaxPool1d(kernel_size=2, stride=2, padding=0, dilation=1, ceil_mode=False)\n",
      "  (conv5): Conv1d(100, 20, kernel_size=(3,), stride=(1,), padding=(1,))\n",
      "  (conv6): Conv1d(20, 1, kernel_size=(3,), stride=(1,), padding=(1,))\n",
      "  (maxpool6): MaxPool1d(kernel_size=2, stride=2, padding=0, dilation=1, ceil_mode=False)\n",
      "  (relu): ReLU()\n",
      ")\n"
     ]
    }
   ],
   "source": [
    "\n",
    "class buffayCNN(nn.Module):\n",
    "    def __init__(self):\n",
    "        super(buffayCNN, self).__init__()\n",
    "        self.linear1 = nn.Linear(16, 500)\n",
    "        self.linear2 = nn.Linear(500, 780)\n",
    "        self.linear3 = nn.Linear(780, 4000)\n",
    "        \n",
    "        self.conv1 = nn.Conv1d(1, 20, kernel_size=3, stride=1, padding=1)\n",
    "        #self.maxpool1 = nn.MaxPool1d(2)\n",
    "        self.conv2 = nn.Conv1d(20,100, kernel_size=3, stride=1, padding=1)\n",
    "        self.maxpool2 = nn.MaxPool1d(2)\n",
    "        self.conv3 = nn.Conv1d(100, 150, kernel_size=3, stride=1, padding=1)\n",
    "        #self.maxpool3 = nn.MaxPool1d(2)\n",
    "        self.conv4 = nn.Conv1d(150, 100, kernel_size=3, stride=1, padding=1)\n",
    "        self.maxpool4 = nn.MaxPool1d(2)\n",
    "        \n",
    "        self.conv5 = nn.Conv1d(100, 20, kernel_size=3, stride=1, padding=1)\n",
    "        #self.maxpool5 = nn.MaxPool1d(2)\n",
    "        self.conv6 = nn.Conv1d(20, 1, kernel_size=3, stride=1, padding=1)\n",
    "        self.maxpool6 = nn.MaxPool1d(2)\n",
    "\n",
    "        self.relu = nn.ReLU()\n",
    "        \n",
    "    def forward(self, x):\n",
    "        x = self.relu(self.linear1(x))\n",
    "        x = self.relu(self.linear2(x))\n",
    "        x = self.relu(self.linear3(x))\n",
    "\n",
    "        x = self.relu((self.conv1(x.reshape((x.shape[0], 1, x.shape[1])))))\n",
    "        # x = self.maxpool1(x)\n",
    "        \n",
    "        x = self.relu((self.conv2(x)))\n",
    "        x = self.maxpool2(x)\n",
    "        \n",
    "        x = self.relu((self.conv3(x)))\n",
    "        # x = self.maxpool3(x)\n",
    "        \n",
    "        x = self.relu((self.conv4(x)))\n",
    "        x = self.maxpool4(x)\n",
    "        \n",
    "        x = self.relu((self.conv5(x)))\n",
    "        # x = self.maxpool5(x)\n",
    "        \n",
    "        x = self.relu((self.conv6(x)))\n",
    "        x = self.maxpool6(x)\n",
    "        \n",
    "                \n",
    "        return x.squeeze()\n",
    "\n",
    "# Create an instance of the SimpleCNN model\n",
    "model = buffayCNN()\n",
    "model.to(device)\n",
    "\n",
    "# model.cuda() # move to the GPU \n",
    "\n",
    "# Print the model architecture\n",
    "print(model)\n"
   ]
  },
  {
   "cell_type": "code",
   "execution_count": 22,
   "metadata": {},
   "outputs": [],
   "source": [
    "# model(torch.zeros((10,16))).shape"
   ]
  },
  {
   "cell_type": "code",
   "execution_count": 10,
   "metadata": {},
   "outputs": [],
   "source": [
    "# build a dierectroy to save the model\n",
    "\n",
    "training_index = 1\n",
    "\n",
    "os.makedirs(f'./model_{training_index}', exist_ok=True)\n",
    "checkpoint_path = f'./model_{training_index}/checkpoint.pth'\n",
    "# checkpoint_dir = os.path.dirname(checkpoint_path)\n"
   ]
  },
  {
   "cell_type": "code",
   "execution_count": 11,
   "metadata": {},
   "outputs": [
    {
     "name": "stdout",
     "output_type": "stream",
     "text": [
      "epoch:  0\n"
     ]
    },
    {
     "name": "stderr",
     "output_type": "stream",
     "text": [
      "c:\\Users\\vtard\\anaconda3\\envs\\pytorch\\Lib\\site-packages\\torch\\nn\\modules\\conv.py:306: UserWarning: Plan failed with a cudnnException: CUDNN_BACKEND_EXECUTION_PLAN_DESCRIPTOR: cudnnFinalize Descriptor Failed cudnn_status: CUDNN_STATUS_NOT_SUPPORTED (Triggered internally at ..\\aten\\src\\ATen\\native\\cudnn\\Conv_v8.cpp:919.)\n",
      "  return F.conv1d(input, weight, bias, self.stride,\n"
     ]
    },
    {
     "name": "stdout",
     "output_type": "stream",
     "text": [
      "epoch:  1\n",
      "epoch:  2\n",
      "epoch:  3\n",
      "epoch:  4\n",
      "epoch:  5\n",
      "epoch:  6\n",
      "epoch:  7\n",
      "epoch:  8\n",
      "epoch:  9\n",
      "epoch:  10\n",
      "epoch:  11\n",
      "epoch:  12\n",
      "epoch:  13\n",
      "epoch:  14\n",
      "epoch:  15\n",
      "epoch:  16\n",
      "epoch:  17\n",
      "epoch:  18\n",
      "epoch:  19\n"
     ]
    },
    {
     "data": {
      "text/plain": [
       "buffayCNN(\n",
       "  (linear1): Linear(in_features=16, out_features=500, bias=True)\n",
       "  (linear2): Linear(in_features=500, out_features=780, bias=True)\n",
       "  (linear3): Linear(in_features=780, out_features=4000, bias=True)\n",
       "  (conv1): Conv1d(1, 20, kernel_size=(3,), stride=(1,), padding=(1,))\n",
       "  (conv2): Conv1d(20, 100, kernel_size=(3,), stride=(1,), padding=(1,))\n",
       "  (maxpool2): MaxPool1d(kernel_size=2, stride=2, padding=0, dilation=1, ceil_mode=False)\n",
       "  (conv3): Conv1d(100, 150, kernel_size=(3,), stride=(1,), padding=(1,))\n",
       "  (conv4): Conv1d(150, 100, kernel_size=(3,), stride=(1,), padding=(1,))\n",
       "  (maxpool4): MaxPool1d(kernel_size=2, stride=2, padding=0, dilation=1, ceil_mode=False)\n",
       "  (conv5): Conv1d(100, 20, kernel_size=(3,), stride=(1,), padding=(1,))\n",
       "  (conv6): Conv1d(20, 1, kernel_size=(3,), stride=(1,), padding=(1,))\n",
       "  (maxpool6): MaxPool1d(kernel_size=2, stride=2, padding=0, dilation=1, ceil_mode=False)\n",
       "  (relu): ReLU()\n",
       ")"
      ]
     },
     "execution_count": 11,
     "metadata": {},
     "output_type": "execute_result"
    }
   ],
   "source": [
    "loss_fn = nn.MSELoss()\n",
    "optimizer = torch.optim.Adam(model.parameters(), lr=0.001)\n",
    "epochs = 20\n",
    "\n",
    "val_losses = []\n",
    "train_losses = []\n",
    "\n",
    "best_val_loss = np.inf\n",
    "\n",
    "for epoch in range(epochs):\n",
    "    print(\"epoch: \", epoch)\n",
    "    temp_train_losses = []\n",
    "    \n",
    "    for i, (x, y) in enumerate(training_generator):\n",
    "        \n",
    "        \n",
    "        x = x.to(torch.float32)\n",
    "        y = y.to(torch.float32)\n",
    "\n",
    "        x, y = x.to(device), y.to(device)\n",
    "        \n",
    "        # x,y = x.cuda(), y.cuda() # move it to the GPU\n",
    "        \n",
    "        # Clear the gradients\n",
    "        optimizer.zero_grad()\n",
    "        \n",
    "        model.train()\n",
    "        \n",
    "        # Forward pass\n",
    "        y_hat = model(x)\n",
    "        \n",
    "        # Compute the loss\n",
    "        loss = loss_fn(y_hat, y)\n",
    "        temp_train_losses.append(loss.item())\n",
    "        \n",
    "        # Backward pass\n",
    "        loss.backward()\n",
    "        \n",
    "        # Update the parameters\n",
    "        optimizer.step()\n",
    "    \n",
    "    train_losses.append(np.mean(np.array(temp_train_losses)))\n",
    "    \n",
    "    temp_val_losses = []\n",
    "    \n",
    "    for i, (x, y) in enumerate(validation_generator):\n",
    "        x = x.to(torch.float32)\n",
    "        y = y.to(torch.float32)\n",
    "        \n",
    "        x, y = x.to(device), y.to(device)\n",
    "        \n",
    "        # x,y = x.cuda(), y.cuda()\n",
    "        \n",
    "        model.eval() \n",
    "        \n",
    "        # Forward pass\n",
    "        y_hat_val = model(x)\n",
    "        \n",
    "        # Compute the loss\n",
    "        val_loss = loss_fn(y_hat_val, y)\n",
    "        \n",
    "        temp_val_losses.append(val_loss.item())\n",
    "            \n",
    "    val_losses.append(np.mean(np.array(temp_val_losses)))\n",
    "    \n",
    "    if np.mean(np.array(temp_val_losses)) < best_val_loss:\n",
    "        best_val_loss = np.mean(np.array(temp_val_losses))\n",
    "        torch.save(model.state_dict(), checkpoint_path)\n",
    "    \n",
    "    # Print the loss every 100 iterations\n",
    "    if i % 100 == 0:\n",
    "        print(f'Epoch {_}, Iteration {i}, loss: {loss.item()}')\n",
    "\n",
    "model.train()"
   ]
  },
  {
   "cell_type": "code",
   "execution_count": 14,
   "metadata": {},
   "outputs": [
    {
     "data": {
      "text/plain": [
       "(0.08, 0.12)"
      ]
     },
     "execution_count": 14,
     "metadata": {},
     "output_type": "execute_result"
    },
    {
     "data": {
      "image/png": "[encoded data removed]",
      "text/plain": [
       "<Figure size 640x480 with 1 Axes>"
      ]
     },
     "metadata": {},
     "output_type": "display_data"
    }
   ],
   "source": [
    "plt.figure()\n",
    "plt.plot(np.linspace(0,100,len(train_losses)),train_losses, label='Training loss',color=\"gray\")\n",
    "plt.plot(np.linspace(0,100,len(train_losses)), val_losses,label='Validation loss',color=\"purple\")\n",
    "plt.legend()\n",
    "plt.ylim(0.08,0.12)"
   ]
  },
  {
   "cell_type": "code",
   "execution_count": 45,
   "metadata": {},
   "outputs": [
    {
     "name": "stdout",
     "output_type": "stream",
     "text": [
      "tensor([ 1.3178e+01, -2.1422e-01,  0.0000e+00,  0.0000e+00,  8.7900e-01,\n",
      "         3.0063e+01,  6.4670e+01,  2.4205e+00,  6.2583e-01,  7.7965e+03,\n",
      "         3.9239e+03,  7.5389e-01,  8.8871e-01,  2.1865e-01,  3.0038e-01,\n",
      "         0.0000e+00], dtype=torch.float64)\n"
     ]
    }
   ],
   "source": [
    "print(data[0])"
   ]
  },
  {
   "cell_type": "code",
   "execution_count": null,
   "metadata": {},
   "outputs": [],
   "source": []
  }
 ],
 "metadata": {
  "kernelspec": {
   "display_name": "pytorch",
   "language": "python",
   "name": "python3"
  },
  "language_info": {
   "codemirror_mode": {
    "name": "ipython",
    "version": 3
   },
   "file_extension": ".py",
   "mimetype": "text/x-python",
   "name": "python",
   "nbconvert_exporter": "python",
   "pygments_lexer": "ipython3",
   "version": "3.11.5"
  }
 },
 "nbformat": 4,
 "nbformat_minor": 2
}
